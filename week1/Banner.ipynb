{
 "cells": [
  {
   "cell_type": "code",
   "execution_count": 1,
   "metadata": {},
   "outputs": [],
   "source": [
    "import numpy as np\n",
    "import pandas as pd\n",
    "from sklearn.cluster import MeanShift\n",
    "import csv\n",
    "import matplotlib.pyplot as plt\n",
    "from numpy.linalg import norm\n",
    "from itertools import groupby\n",
    "from operator import itemgetter\n",
    "from geopy.distance import vincenty"
   ]
  },
  {
   "cell_type": "code",
   "execution_count": 2,
   "metadata": {
    "collapsed": true
   },
   "outputs": [],
   "source": [
    "def write_answer(ans1, ans2):\n",
    "    auc = (str(ans1) +\" \"+ str(ans2))\n",
    "    with open(\"banner.txt\", \"w\") as fout:\n",
    "        fout.write(str(auc))"
   ]
  },
  {
   "cell_type": "code",
   "execution_count": 4,
   "metadata": {},
   "outputs": [],
   "source": [
    "data = pd.read_csv('checkins.dat', sep='|', header=0, skipinitialspace=True, )\n",
    "data.dropna(inplace=True)\n",
    "data.columns = ['id', 'user_id', 'venue_id', 'latitude', 'longitude', 'created_at']"
   ]
  },
  {
   "cell_type": "code",
   "execution_count": 5,
   "metadata": {},
   "outputs": [
    {
     "data": {
      "text/plain": [
       "MeanShift(bandwidth=0.1, bin_seeding=False, cluster_all=True, min_bin_freq=1,\n",
       "     n_jobs=-1, seeds=None)"
      ]
     },
     "execution_count": 5,
     "metadata": {},
     "output_type": "execute_result"
    }
   ],
   "source": [
    "ms = MeanShift(bandwidth=0.1, n_jobs=-1)\n",
    "ms.fit(data[['latitude', 'longitude']][:100000])"
   ]
  },
  {
   "cell_type": "code",
   "execution_count": 6,
   "metadata": {
    "collapsed": true
   },
   "outputs": [],
   "source": [
    "big_cluster_labels = [i for i, k in groupby(sorted(ms.labels_)) if len(list(k)) > 15]"
   ]
  },
  {
   "cell_type": "code",
   "execution_count": 7,
   "metadata": {},
   "outputs": [
    {
     "name": "stdout",
     "output_type": "stream",
     "text": [
      "40.7177163973,-73.9918354199\n",
      "33.4494380502,-112.00213969\n",
      "33.4463802704,-111.901887562\n",
      "41.8782437797,-87.6298433623\n",
      "37.6886815741,-122.409330374\n",
      "38.8861652156,-77.0487833307\n",
      "33.3573445623,-111.822654108\n",
      "33.7666362322,-84.3932891848\n",
      "42.3632186398,-71.0736876086\n",
      "47.6062447174,-122.332043826\n",
      "36.117229143,-115.171073423\n",
      "34.0603975546,-118.248709027\n",
      "44.9779478203,-93.2673008853\n",
      "30.267183617,-97.7431192813\n",
      "40.76687624,-73.8333534905\n",
      "39.7358301526,-104.986580428\n",
      "39.951680373,-75.1627359239\n",
      "34.0354869531,-118.438997719\n",
      "32.9808933822,-117.078117978\n",
      "32.8030205353,-96.7698974349\n"
     ]
    }
   ],
   "source": [
    "big_cluster_centers = [ms.cluster_centers_[label] for label in big_cluster_labels]\n",
    "for c in big_cluster_centers[0:20]:\n",
    "    print(\"{},{}\".format(c[0], c[1]))"
   ]
  },
  {
   "cell_type": "code",
   "execution_count": 8,
   "metadata": {
    "collapsed": true
   },
   "outputs": [],
   "source": [
    "offices = [\n",
    "    [33.751277, -118.188740],\n",
    "    [25.867736, -80.324116],\n",
    "    [51.503016, -0.075479],\n",
    "    [52.378894, 4.885084],\n",
    "    [39.366487, 117.036146],\n",
    "    [-33.868457, 151.205134]\n",
    "]"
   ]
  },
  {
   "cell_type": "code",
   "execution_count": 9,
   "metadata": {
    "collapsed": true
   },
   "outputs": [],
   "source": [
    "def dist(a, b):\n",
    "    return vincenty(tuple(a), tuple(b)).meters"
   ]
  },
  {
   "cell_type": "code",
   "execution_count": 10,
   "metadata": {
    "collapsed": true
   },
   "outputs": [],
   "source": [
    "distances = []\n",
    "\n",
    "for office in offices:\n",
    "    for center in big_cluster_centers:\n",
    "        pair = (dist(center, office), tuple(center))\n",
    "        distances.append(pair)\n",
    "\n",
    "distances = sorted(distances, key=lambda el: el[0], reverse=False)"
   ]
  },
  {
   "cell_type": "code",
   "execution_count": 11,
   "metadata": {},
   "outputs": [
    {
     "data": {
      "text/plain": [
       "[(823.4439405652802, (52.37296399032261, 4.8923172225806466)),\n",
       " (868.754889081817, (-33.860630428571433, 151.20477592857145)),\n",
       " (2499.8389367887366, (25.8456722642857, -80.318890596428574)),\n",
       " (3475.8459456398728, (51.502991260887086, -0.12553728870967767)),\n",
       " (7473.232758058908, (33.809877955263097, -118.14892380690813)),\n",
       " (13989.508525635409, (25.785812419967499, -80.217938036825402)),\n",
       " (18446.965858161107, (25.705349721052581, -80.28342873815798)),\n",
       " (19965.422193191756, (33.888325342758598, -118.04892817172427)),\n",
       " (20083.481829298064, (26.010098249285683, -80.199990585714318)),\n",
       " (20972.68871913518, (33.872986011570177, -118.36209114655645)),\n",
       " (24618.591403758826, (33.97257482142858, -118.16837066666663)),\n",
       " (28509.664310873613, (33.81730643390889, -117.89124917095801)),\n",
       " (30052.960808513977, (26.138843786842077, -80.334346836842073)),\n",
       " (30781.408060008325, (33.983935874038437, -118.00740497307689)),\n",
       " (31753.935186627205, (33.674302659765758, -117.85878926777275)),\n",
       " (32558.263281921383, (26.120862658633104, -80.158906680215694)),\n",
       " (34733.54660273754, (34.060397554582408, -118.24870902659876)),\n",
       " (37600.478826780556, (26.20058464102565, -80.250716125640992)),\n",
       " (39111.03588168936, (34.035486953121158, -118.43899771946148)),\n",
       " (41985.21244652844, (33.650895992880258, -117.75207397281613))]"
      ]
     },
     "execution_count": 11,
     "metadata": {},
     "output_type": "execute_result"
    }
   ],
   "source": [
    "distances[0:20]"
   ]
  },
  {
   "cell_type": "code",
   "execution_count": 12,
   "metadata": {
    "collapsed": true
   },
   "outputs": [],
   "source": [
    "ans = distances[0][1]"
   ]
  },
  {
   "cell_type": "code",
   "execution_count": 13,
   "metadata": {
    "collapsed": true
   },
   "outputs": [],
   "source": [
    "write_answer(ans[0], ans[1])"
   ]
  }
 ],
 "metadata": {
  "kernelspec": {
   "display_name": "Python 2",
   "language": "python",
   "name": "python2"
  },
  "language_info": {
   "codemirror_mode": {
    "name": "ipython",
    "version": 2
   },
   "file_extension": ".py",
   "mimetype": "text/x-python",
   "name": "python",
   "nbconvert_exporter": "python",
   "pygments_lexer": "ipython2",
   "version": "2.7.14"
  }
 },
 "nbformat": 4,
 "nbformat_minor": 2
}
