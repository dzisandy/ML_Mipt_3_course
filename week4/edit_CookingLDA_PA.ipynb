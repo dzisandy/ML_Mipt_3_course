{
 "cells": [
  {
   "cell_type": "markdown",
   "metadata": {},
   "source": [
    "# Programming Assignment: \n",
    "## Готовим LDA по рецептам"
   ]
  },
  {
   "cell_type": "markdown",
   "metadata": {},
   "source": [
    "Как вы уже знаете, в тематическом моделировании делается предположение о том, что для определения тематики порядок слов в документе не важен; об этом гласит гипотеза «мешка слов». Сегодня мы будем работать с несколько нестандартной для тематического моделирования коллекцией, которую можно назвать «мешком ингредиентов», потому что на состоит из рецептов блюд разных кухонь. Тематические модели ищут слова, которые часто вместе встречаются в документах, и составляют из них темы. Мы попробуем применить эту идею к рецептам и найти кулинарные «темы». Эта коллекция хороша тем, что не требует предобработки. Кроме того, эта задача достаточно наглядно иллюстрирует принцип работы тематических моделей.\n",
    "\n",
    "Для выполнения заданий, помимо часто используемых в курсе библиотек, потребуются модули *json* и *gensim*. Первый входит в дистрибутив Anaconda, второй можно поставить командой \n",
    "\n",
    "*pip install gensim*\n",
    "\n",
    "Построение модели занимает некоторое время. На ноутбуке с процессором Intel Core i7 и тактовой частотой 2400 МГц на построение одной модели уходит менее 10 минут."
   ]
  },
  {
   "cell_type": "markdown",
   "metadata": {},
   "source": [
    "### Загрузка данных"
   ]
  },
  {
   "cell_type": "markdown",
   "metadata": {},
   "source": [
    "Коллекция дана в json-формате: для каждого рецепта известны его id, кухня (cuisine) и список ингредиентов, в него входящих. Загрузить данные можно с помощью модуля json (он входит в дистрибутив Anaconda):"
   ]
  },
  {
   "cell_type": "code",
   "execution_count": 1,
   "metadata": {},
   "outputs": [
    {
     "data": {
      "text/plain": [
       "'1.13.3'"
      ]
     },
     "execution_count": 1,
     "metadata": {},
     "output_type": "execute_result"
    }
   ],
   "source": [
    "import json\n",
    "from collections import Counter\n",
    "import numpy\n",
    "numpy.version.version # 10.13.3 MAC OS, 2.7 Python\n"
   ]
  },
  {
   "cell_type": "code",
   "execution_count": 2,
   "metadata": {
    "collapsed": true
   },
   "outputs": [],
   "source": [
    "with open(\"recipes.json\") as f:\n",
    "    recipes = json.load(f)"
   ]
  },
  {
   "cell_type": "code",
   "execution_count": 3,
   "metadata": {},
   "outputs": [
    {
     "name": "stdout",
     "output_type": "stream",
     "text": [
      "{u'cuisine': u'greek', u'id': 10259, u'ingredients': [u'romaine lettuce', u'black olives', u'grape tomatoes', u'garlic', u'pepper', u'purple onion', u'seasoning', u'garbanzo beans', u'feta cheese crumbles']}\n"
     ]
    }
   ],
   "source": [
    "print recipes[0]"
   ]
  },
  {
   "cell_type": "markdown",
   "metadata": {},
   "source": [
    "### Составление корпуса"
   ]
  },
  {
   "cell_type": "code",
   "execution_count": 4,
   "metadata": {
    "collapsed": true
   },
   "outputs": [],
   "source": [
    "from gensim import corpora, models\n",
    "import numpy as np"
   ]
  },
  {
   "cell_type": "markdown",
   "metadata": {},
   "source": [
    "Наша коллекция небольшая, и целиком помещается в оперативную память. Gensim может работать с такими данными и не требует их сохранения на диск в специальном формате. Для этого коллекция должна быть представлена в виде списка списков, каждый внутренний список соответствует отдельному документу и состоит из его слов. Пример коллекции из двух документов: \n",
    "\n",
    "[[\"hello\", \"world\"], [\"programming\", \"in\", \"python\"]]\n",
    "\n",
    "Преобразуем наши данные в такой формат, а затем создадим объекты corpus и dictionary, с которыми будет работать модель."
   ]
  },
  {
   "cell_type": "code",
   "execution_count": 5,
   "metadata": {
    "collapsed": true
   },
   "outputs": [],
   "source": [
    "texts = [recipe[\"ingredients\"] for recipe in recipes]\n",
    "dictionary = corpora.Dictionary(texts)   # составляем словарь\n",
    "corpus = [dictionary.doc2bow(text) for text in texts]  # составляем корпус документов"
   ]
  },
  {
   "cell_type": "code",
   "execution_count": 6,
   "metadata": {},
   "outputs": [
    {
     "name": "stdout",
     "output_type": "stream",
     "text": [
      "[u'romaine lettuce', u'black olives', u'grape tomatoes', u'garlic', u'pepper', u'purple onion', u'seasoning', u'garbanzo beans', u'feta cheese crumbles']\n",
      "[(0, 1), (1, 1), (2, 1), (3, 1), (4, 1), (5, 1), (6, 1), (7, 1), (8, 1)]\n"
     ]
    }
   ],
   "source": [
    "print texts[0]\n",
    "print corpus[0]"
   ]
  },
  {
   "cell_type": "markdown",
   "metadata": {},
   "source": [
    "У объекта dictionary есть полезная переменная dictionary.token2id, позволяющая находить соответствие между ингредиентами и их индексами."
   ]
  },
  {
   "cell_type": "markdown",
   "metadata": {},
   "source": [
    "### Обучение модели\n",
    "Вам может понадобиться [документация](https://radimrehurek.com/gensim/models/ldamodel.html) LDA в gensim."
   ]
  },
  {
   "cell_type": "markdown",
   "metadata": {},
   "source": [
    "__Задание 1.__ Обучите модель LDA с 40 темами, установив количество проходов по коллекции 5 и оставив остальные параметры по умолчанию. \n",
    "\n",
    "\n",
    "Затем вызовите метод модели *show_topics*, указав количество тем 40 и количество токенов 10, и сохраните результат (топы ингредиентов в темах) в отдельную переменную. Если при вызове метода *show_topics* указать параметр *formatted=True*, то топы ингредиентов будет удобно выводить на печать, если *formatted=False*, будет удобно работать со списком программно. Выведите топы на печать, рассмотрите темы, а затем ответьте на вопрос:\n",
    "\n",
    "Сколько раз ингредиенты \"salt\", \"sugar\", \"water\", \"mushrooms\", \"chicken\", \"eggs\" встретились среди топов-10 всех 40 тем? При ответе __не нужно__ учитывать составные ингредиенты, например, \"hot water\".\n",
    "\n",
    "Передайте 6 чисел в функцию save_answers1 и загрузите сгенерированный файл в форму.\n",
    "\n",
    "У gensim нет возможности фиксировать случайное приближение через параметры метода, но библиотека использует numpy для инициализации матриц. Поэтому, по утверждению автора библиотеки, фиксировать случайное приближение нужно командой, которая написана в следующей ячейке. __Перед строкой кода с построением модели обязательно вставляйте указанную строку фиксации random.seed.__"
   ]
  },
  {
   "cell_type": "code",
   "execution_count": 7,
   "metadata": {},
   "outputs": [
    {
     "name": "stdout",
     "output_type": "stream",
     "text": [
      "CPU times: user 5min 23s, sys: 512 ms, total: 5min 23s\n",
      "Wall time: 5min 25s\n"
     ]
    }
   ],
   "source": [
    "np.random.seed(76543)\n",
    "# здесь код для построения модели:\n",
    "%time ldamodel = models.ldamodel.LdaModel(corpus, id2word=dictionary, num_topics=40, passes=5)"
   ]
  },
  {
   "cell_type": "code",
   "execution_count": 8,
   "metadata": {},
   "outputs": [
    {
     "data": {
      "text/plain": [
       "[(0,\n",
       "  u'0.084*\"garlic cloves\" + 0.068*\"chopped onion\" + 0.066*\"cooking spray\" + 0.063*\"salt\" + 0.043*\"water\" + 0.041*\"fat free less sodium chicken broth\" + 0.040*\"ground red pepper\" + 0.038*\"sliced green onions\" + 0.026*\"olive oil\" + 0.025*\"black pepper\"'),\n",
       " (1,\n",
       "  u'0.082*\"corn kernels\" + 0.070*\"diced onions\" + 0.059*\"tortillas\" + 0.057*\"salt and ground black pepper\" + 0.047*\"1% low-fat milk\" + 0.040*\"sliced black olives\" + 0.039*\"cream cheese, soften\" + 0.039*\"vegetable stock\" + 0.038*\"chopped fresh chives\" + 0.035*\"lard\"'),\n",
       " (2,\n",
       "  u'0.088*\"olive oil\" + 0.061*\"fresh basil\" + 0.049*\"salt\" + 0.046*\"fresh parsley\" + 0.046*\"crushed red pepper\" + 0.041*\"grated parmesan cheese\" + 0.041*\"garlic cloves\" + 0.030*\"cherry tomatoes\" + 0.027*\"butter\" + 0.026*\"low salt chicken broth\"'),\n",
       " (3,\n",
       "  u'0.074*\"bacon\" + 0.072*\"salt\" + 0.061*\"red pepper flakes\" + 0.049*\"ground black pepper\" + 0.047*\"garlic\" + 0.042*\"pasta\" + 0.038*\"onions\" + 0.036*\"chicken thighs\" + 0.035*\"olive oil\" + 0.030*\"fresh dill\"'),\n",
       " (4,\n",
       "  u'0.129*\"all-purpose flour\" + 0.116*\"large eggs\" + 0.089*\"salt\" + 0.080*\"milk\" + 0.077*\"butter\" + 0.049*\"sugar\" + 0.039*\"baking powder\" + 0.031*\"powdered sugar\" + 0.026*\"vegetable oil\" + 0.024*\"large egg whites\"'),\n",
       " (5,\n",
       "  u'0.078*\"dry white wine\" + 0.059*\"shallots\" + 0.049*\"olive oil\" + 0.039*\"salt\" + 0.031*\"ground cloves\" + 0.030*\"ground allspice\" + 0.030*\"white wine vinegar\" + 0.029*\"butter\" + 0.028*\"arborio rice\" + 0.025*\"saffron threads\"'),\n",
       " (6,\n",
       "  u'0.086*\"leeks\" + 0.072*\"dry red wine\" + 0.049*\"pork tenderloin\" + 0.044*\"reduced sodium soy sauce\" + 0.043*\"cilantro sprigs\" + 0.036*\"carrots\" + 0.034*\"peppercorns\" + 0.026*\"beef broth\" + 0.025*\"granny smith apples\" + 0.023*\"cremini mushrooms\"'),\n",
       " (7,\n",
       "  u'0.088*\"soy sauce\" + 0.055*\"sesame oil\" + 0.046*\"scallions\" + 0.044*\"green onions\" + 0.039*\"corn starch\" + 0.039*\"rice vinegar\" + 0.037*\"sugar\" + 0.033*\"garlic\" + 0.031*\"vegetable oil\" + 0.027*\"fresh ginger\"'),\n",
       " (8,\n",
       "  u'0.178*\"garlic powder\" + 0.111*\"cayenne pepper\" + 0.067*\"onion powder\" + 0.044*\"smoked paprika\" + 0.044*\"ground black pepper\" + 0.034*\"black pepper\" + 0.032*\"fine sea salt\" + 0.027*\"greek yogurt\" + 0.023*\"salt\" + 0.023*\"chili powder\"'),\n",
       " (9,\n",
       "  u'0.063*\"olive oil\" + 0.062*\"purple onion\" + 0.061*\"salt\" + 0.061*\"fresh lemon juice\" + 0.053*\"garlic cloves\" + 0.052*\"extra-virgin olive oil\" + 0.047*\"plum tomatoes\" + 0.041*\"ground black pepper\" + 0.034*\"balsamic vinegar\" + 0.027*\"red bell pepper\"'),\n",
       " (10,\n",
       "  u'0.053*\"broccoli florets\" + 0.050*\"lettuce leaves\" + 0.041*\"chili flakes\" + 0.040*\"cr\\xe8me fra\\xeeche\" + 0.037*\"radishes\" + 0.031*\"greek style plain yogurt\" + 0.031*\"pork sausages\" + 0.031*\"sharp cheddar cheese\" + 0.029*\"watercress\" + 0.027*\"quickcooking grits\"'),\n",
       " (11,\n",
       "  u'0.100*\"lime juice\" + 0.090*\"lime\" + 0.051*\"salt\" + 0.046*\"garlic\" + 0.040*\"chopped cilantro\" + 0.038*\"purple onion\" + 0.037*\"fresh cilantro\" + 0.031*\"jalapeno chilies\" + 0.026*\"mango\" + 0.025*\"olive oil\"'),\n",
       " (12,\n",
       "  u'0.082*\"cheese\" + 0.079*\"ricotta cheese\" + 0.075*\"orange juice\" + 0.050*\"sliced mushrooms\" + 0.050*\"baby spinach\" + 0.044*\"vegetable oil cooking spray\" + 0.031*\"frozen chopped spinach\" + 0.029*\"part-skim mozzarella cheese\" + 0.029*\"italian sausage\" + 0.027*\"part-skim ricotta cheese\"'),\n",
       " (13,\n",
       "  u'0.077*\"diced tomatoes\" + 0.072*\"dried oregano\" + 0.056*\"onions\" + 0.051*\"tomato sauce\" + 0.049*\"salt\" + 0.044*\"garlic\" + 0.039*\"dried basil\" + 0.039*\"olive oil\" + 0.032*\"crushed tomatoes\" + 0.028*\"ground beef\"'),\n",
       " (14,\n",
       "  u'0.067*\"beef\" + 0.048*\"onions\" + 0.047*\"green cabbage\" + 0.045*\"red wine\" + 0.042*\"green peas\" + 0.038*\"goat cheese\" + 0.033*\"beef stock\" + 0.031*\"red cabbage\" + 0.028*\"chili pepper\" + 0.025*\"paneer\"'),\n",
       " (15,\n",
       "  u'0.143*\"lemon\" + 0.063*\"sugar\" + 0.059*\"fresh mint\" + 0.048*\"orange\" + 0.044*\"boiling water\" + 0.033*\"water\" + 0.032*\"cold water\" + 0.028*\"ground white pepper\" + 0.028*\"almonds\" + 0.026*\"grated lemon peel\"'),\n",
       " (16,\n",
       "  u'0.084*\"chopped cilantro fresh\" + 0.073*\"fresh lime juice\" + 0.072*\"jalapeno chilies\" + 0.055*\"white onion\" + 0.043*\"avocado\" + 0.039*\"salt\" + 0.037*\"ground cumin\" + 0.035*\"garlic cloves\" + 0.029*\"cilantro leaves\" + 0.026*\"tomatoes\"'),\n",
       " (17,\n",
       "  u'0.123*\"zucchini\" + 0.068*\"eggplant\" + 0.063*\"onions\" + 0.052*\"olive oil\" + 0.051*\"garlic\" + 0.048*\"white wine\" + 0.042*\"chopped parsley\" + 0.037*\"fresh mushrooms\" + 0.035*\"lean ground beef\" + 0.035*\"raisins\"'),\n",
       " (18,\n",
       "  u'0.107*\"parmesan cheese\" + 0.075*\"salt\" + 0.064*\"warm water\" + 0.052*\"bell pepper\" + 0.051*\"olive oil\" + 0.049*\"water\" + 0.036*\"grits\" + 0.031*\"polenta\" + 0.030*\"kale\" + 0.028*\"plain flour\"'),\n",
       " (19,\n",
       "  u'0.135*\"unsalted butter\" + 0.071*\"all-purpose flour\" + 0.066*\"salt\" + 0.056*\"large eggs\" + 0.056*\"sugar\" + 0.042*\"granulated sugar\" + 0.042*\"whole milk\" + 0.032*\"buttermilk\" + 0.030*\"large egg yolks\" + 0.029*\"baking powder\"'),\n",
       " (20,\n",
       "  u'0.088*\"red wine vinegar\" + 0.073*\"flat leaf parsley\" + 0.050*\"olive oil\" + 0.047*\"extra-virgin olive oil\" + 0.039*\"garlic cloves\" + 0.038*\"sweet onion\" + 0.036*\"ground black pepper\" + 0.036*\"tomatoes\" + 0.034*\"dry bread crumbs\" + 0.032*\"grated lemon zest\"'),\n",
       " (21,\n",
       "  u'0.209*\"chicken broth\" + 0.085*\"boneless skinless chicken breast halves\" + 0.076*\"boneless skinless chicken breasts\" + 0.056*\"cajun seasoning\" + 0.037*\"juice\" + 0.033*\"butter\" + 0.028*\"pepper\" + 0.024*\"onions\" + 0.022*\"garlic salt\" + 0.021*\"boneless chicken breast\"'),\n",
       " (22,\n",
       "  u'0.128*\"grated parmesan cheese\" + 0.050*\"mozzarella cheese\" + 0.046*\"shredded mozzarella cheese\" + 0.046*\"olive oil\" + 0.037*\"italian seasoning\" + 0.037*\"salt\" + 0.036*\"eggs\" + 0.034*\"garlic\" + 0.029*\"pepper\" + 0.027*\"pasta sauce\"'),\n",
       " (23,\n",
       "  u'0.070*\"brown sugar\" + 0.048*\"soy sauce\" + 0.045*\"water\" + 0.044*\"salt\" + 0.043*\"white pepper\" + 0.039*\"oil\" + 0.038*\"sugar\" + 0.038*\"garlic\" + 0.036*\"sauce\" + 0.032*\"cooking oil\"'),\n",
       " (24,\n",
       "  u'0.066*\"ground cumin\" + 0.044*\"salt\" + 0.042*\"ground coriander\" + 0.034*\"curry powder\" + 0.032*\"onions\" + 0.029*\"garlic\" + 0.024*\"tumeric\" + 0.024*\"garlic cloves\" + 0.024*\"fresh ginger\" + 0.023*\"vegetable oil\"'),\n",
       " (25,\n",
       "  u'0.079*\"large shrimp\" + 0.070*\"hot water\" + 0.065*\"chopped garlic\" + 0.053*\"peanut oil\" + 0.046*\"rice wine\" + 0.036*\"hot red pepper flakes\" + 0.029*\"corn oil\" + 0.026*\"fontina cheese\" + 0.024*\"marsala wine\" + 0.024*\"seasoning\"'),\n",
       " (26,\n",
       "  u'0.072*\"mirin\" + 0.064*\"chickpeas\" + 0.044*\"spring onions\" + 0.044*\"mint leaves\" + 0.043*\"red pepper\" + 0.042*\"fresh coriander\" + 0.037*\"sake\" + 0.035*\"saffron\" + 0.032*\"sugar\" + 0.030*\"soy sauce\"'),\n",
       " (27,\n",
       "  u'0.169*\"heavy cream\" + 0.066*\"frozen peas\" + 0.057*\"grated nutmeg\" + 0.041*\"bread crumbs\" + 0.035*\"Tabasco Pepper Sauce\" + 0.034*\"bananas\" + 0.032*\"unsalted butter\" + 0.032*\"bread\" + 0.028*\"mascarpone\" + 0.027*\"lump crab meat\"'),\n",
       " (28,\n",
       "  u'0.103*\"oil\" + 0.087*\"salt\" + 0.048*\"green chilies\" + 0.047*\"onions\" + 0.046*\"cilantro leaves\" + 0.045*\"cumin seed\" + 0.040*\"ground turmeric\" + 0.037*\"water\" + 0.031*\"chili powder\" + 0.030*\"tomatoes\"'),\n",
       " (29,\n",
       "  u'0.075*\"sour cream\" + 0.046*\"chili powder\" + 0.046*\"salsa\" + 0.045*\"flour tortillas\" + 0.040*\"shredded cheddar cheese\" + 0.039*\"black beans\" + 0.038*\"corn tortillas\" + 0.029*\"cilantro\" + 0.029*\"ground cumin\" + 0.027*\"onions\"'),\n",
       " (30,\n",
       "  u'0.094*\"sugar\" + 0.080*\"whipping cream\" + 0.076*\"egg yolks\" + 0.055*\"vanilla extract\" + 0.044*\"butter\" + 0.042*\"half & half\" + 0.039*\"egg whites\" + 0.037*\"sweetened condensed milk\" + 0.032*\"water\" + 0.031*\"strawberries\"'),\n",
       " (31,\n",
       "  u'0.100*\"fish sauce\" + 0.046*\"coconut milk\" + 0.043*\"shallots\" + 0.037*\"sugar\" + 0.033*\"vegetable oil\" + 0.030*\"fresh lime juice\" + 0.030*\"lemongrass\" + 0.029*\"water\" + 0.023*\"medium shrimp\" + 0.023*\"beansprouts\"'),\n",
       " (32,\n",
       "  u'0.133*\"eggs\" + 0.091*\"salt\" + 0.059*\"butter\" + 0.056*\"all-purpose flour\" + 0.055*\"milk\" + 0.053*\"flour\" + 0.052*\"white sugar\" + 0.036*\"sugar\" + 0.032*\"baking powder\" + 0.021*\"water\"'),\n",
       " (33,\n",
       "  u'0.072*\"rice\" + 0.071*\"chicken breasts\" + 0.047*\"coriander\" + 0.045*\"cabbage\" + 0.041*\"salt\" + 0.039*\"onions\" + 0.039*\"ghee\" + 0.029*\"broccoli\" + 0.029*\"garlic\" + 0.027*\"ground cardamom\"'),\n",
       " (34,\n",
       "  u'0.077*\"cinnamon sticks\" + 0.071*\"clove\" + 0.048*\"black peppercorns\" + 0.047*\"garam masala\" + 0.035*\"chopped tomatoes\" + 0.035*\"cream\" + 0.033*\"garlic paste\" + 0.032*\"onions\" + 0.029*\"yoghurt\" + 0.028*\"coriander seeds\"'),\n",
       " (35,\n",
       "  u'0.060*\"onions\" + 0.053*\"salt\" + 0.049*\"green bell pepper\" + 0.044*\"celery\" + 0.032*\"water\" + 0.030*\"dried thyme\" + 0.028*\"shrimp\" + 0.028*\"garlic\" + 0.028*\"bay leaves\" + 0.025*\"red bell pepper\"'),\n",
       " (36,\n",
       "  u'0.097*\"salt\" + 0.078*\"paprika\" + 0.064*\"onions\" + 0.064*\"pepper\" + 0.062*\"potatoes\" + 0.030*\"carrots\" + 0.030*\"butter\" + 0.030*\"worcestershire sauce\" + 0.028*\"garlic\" + 0.027*\"fresh thyme\"'),\n",
       " (37,\n",
       "  u'0.124*\"extra-virgin olive oil\" + 0.074*\"freshly ground pepper\" + 0.066*\"sea salt\" + 0.049*\"large garlic cloves\" + 0.043*\"coarse salt\" + 0.040*\"kosher salt\" + 0.040*\"garlic cloves\" + 0.031*\"celery ribs\" + 0.029*\"ground pepper\" + 0.028*\"parmigiano reggiano cheese\"'),\n",
       " (38,\n",
       "  u'0.079*\"chicken\" + 0.078*\"chicken stock\" + 0.058*\"yellow onion\" + 0.055*\"white vinegar\" + 0.047*\"onions\" + 0.045*\"garlic\" + 0.043*\"ground black pepper\" + 0.035*\"kosher salt\" + 0.029*\"water\" + 0.027*\"carrots\"'),\n",
       " (39,\n",
       "  u'0.127*\"mayonaise\" + 0.065*\"cheddar cheese\" + 0.062*\"dijon mustard\" + 0.057*\"cider vinegar\" + 0.057*\"cracked black pepper\" + 0.039*\"roma tomatoes\" + 0.038*\"apple cider vinegar\" + 0.036*\"white rice\" + 0.036*\"lemon wedge\" + 0.023*\"french bread\"')]"
      ]
     },
     "execution_count": 8,
     "metadata": {},
     "output_type": "execute_result"
    }
   ],
   "source": [
    "topics = ldamodel.show_topics(num_topics=40, num_words=10, formatted=False)\n",
    "ldamodel.print_topics(num_topics=40, num_words=10)"
   ]
  },
  {
   "cell_type": "code",
   "execution_count": 9,
   "metadata": {},
   "outputs": [
    {
     "data": {
      "text/plain": [
       "[20, 9, 10, 0, 1, 2]"
      ]
     },
     "execution_count": 9,
     "metadata": {},
     "output_type": "execute_result"
    }
   ],
   "source": [
    "terms = [term[0] for topic in topics for term in topic[1]]\n",
    "groups = Counter(terms)\n",
    "\n",
    "answer1 = [groups[k] for k in [\"salt\", \"sugar\", \"water\", \"mushrooms\", \"chicken\", \"eggs\"]]\n",
    "answer1"
   ]
  },
  {
   "cell_type": "code",
   "execution_count": 10,
   "metadata": {
    "collapsed": true
   },
   "outputs": [],
   "source": [
    "def save_answers1(c_salt, c_sugar, c_water, c_mushrooms, c_chicken, c_eggs):\n",
    "    with open(\"cooking_LDA_pa_task1.txt\", \"w\") as fout:\n",
    "        fout.write(\" \".join([str(el) for el in [c_salt, c_sugar, c_water, c_mushrooms, c_chicken, c_eggs]]))"
   ]
  },
  {
   "cell_type": "code",
   "execution_count": 11,
   "metadata": {
    "collapsed": true
   },
   "outputs": [],
   "source": [
    "save_answers1(20,9,10,0,1,2)"
   ]
  },
  {
   "cell_type": "markdown",
   "metadata": {},
   "source": [
    "### Фильтрация словаря\n",
    "В топах тем гораздо чаще встречаются первые три рассмотренных ингредиента, чем последние три. При этом наличие в рецепте курицы, яиц и грибов яснее дает понять, что мы будем готовить, чем наличие соли, сахара и воды. Таким образом, даже в рецептах есть слова, часто встречающиеся в текстах и не несущие смысловой нагрузки, и поэтому их не желательно видеть в темах. Наиболее простой прием борьбы с такими фоновыми элементами — фильтрация словаря по частоте. Обычно словарь фильтруют с двух сторон: убирают очень редкие слова (в целях экономии памяти) и очень частые слова (в целях повышения интерпретируемости тем). Мы уберем только частые слова."
   ]
  },
  {
   "cell_type": "code",
   "execution_count": 12,
   "metadata": {
    "collapsed": true
   },
   "outputs": [],
   "source": [
    "import copy\n",
    "dictionary2 = copy.deepcopy(dictionary)"
   ]
  },
  {
   "cell_type": "markdown",
   "metadata": {},
   "source": [
    "__Задание 2.__ У объекта dictionary2 есть переменная *dfs* — это словарь, ключами которого являются id токена, а элементами — число раз, сколько слово встретилось во всей коллекции. Сохраните в отдельный список ингредиенты, которые встретились в коллекции больше 4000 раз. Вызовите метод словаря *filter_tokens*, подав в качестве первого аргумента полученный список популярных ингредиентов. Вычислите две величины: dict_size_before и dict_size_after — размер словаря до и после фильтрации.\n",
    "\n",
    "Затем, используя новый словарь, создайте новый корпус документов, corpus2, по аналогии с тем, как это сделано в начале ноутбука. Вычислите две величины: corpus_size_before и corpus_size_after — суммарное количество ингредиентов в корпусе (для каждого документа вычислите число различных ингредиентов в нем и просуммируйте по всем документам) до и после фильтрации.\n",
    "\n",
    "Передайте величины dict_size_before, dict_size_after, corpus_size_before, corpus_size_after в функцию save_answers2 и загрузите сгенерированный файл в форму."
   ]
  },
  {
   "cell_type": "code",
   "execution_count": 13,
   "metadata": {},
   "outputs": [
    {
     "data": {
      "text/plain": [
       "[3, 5, 11, 15, 18, 20, 29, 44, 52, 59, 104, 114]"
      ]
     },
     "execution_count": 13,
     "metadata": {},
     "output_type": "execute_result"
    }
   ],
   "source": [
    "dict_size_before = len(dictionary2)\n",
    "frequent_words = [token_id for token_id, freq in dictionary2.dfs.items() if freq > 4000]\n",
    "frequent_words"
   ]
  },
  {
   "cell_type": "code",
   "execution_count": 14,
   "metadata": {},
   "outputs": [],
   "source": [
    "dictionary2.filter_tokens(frequent_words)\n",
    "dict_size_after = len(dictionary2)"
   ]
  },
  {
   "cell_type": "code",
   "execution_count": 15,
   "metadata": {},
   "outputs": [],
   "source": [
    "corpus2 = [dictionary2.doc2bow(text) for text in texts]"
   ]
  },
  {
   "cell_type": "code",
   "execution_count": 16,
   "metadata": {
    "collapsed": true
   },
   "outputs": [],
   "source": [
    "def corpus_size(corps):\n",
    "    x = 0\n",
    "    for item in corps:\n",
    "        x += len(item)\n",
    "    return x"
   ]
  },
  {
   "cell_type": "code",
   "execution_count": 17,
   "metadata": {},
   "outputs": [],
   "source": [
    "corpus_size_before = corpus_size(corpus)\n",
    "corpus_size_after = corpus_size(corpus2)"
   ]
  },
  {
   "cell_type": "code",
   "execution_count": 18,
   "metadata": {
    "collapsed": true
   },
   "outputs": [],
   "source": [
    "def save_answers2(dict_size_before, dict_size_after, corpus_size_before, corpus_size_after):\n",
    "    with open(\"cooking_LDA_pa_task2.txt\", \"w\") as fout:\n",
    "        fout.write(\" \".join([str(el) for el in [dict_size_before, dict_size_after, corpus_size_before, corpus_size_after]]))"
   ]
  },
  {
   "cell_type": "code",
   "execution_count": 19,
   "metadata": {
    "collapsed": true
   },
   "outputs": [],
   "source": [
    "save_answers2(dict_size_before, dict_size_after, corpus_size_before, corpus_size_after)"
   ]
  },
  {
   "cell_type": "markdown",
   "metadata": {},
   "source": [
    "### Сравнение когерентностей\n",
    "__Задание 3.__ Постройте еще одну модель по корпусу corpus2 и словарю dictionary2, остальные параметры оставьте такими же, как при первом построении модели. Сохраните новую модель в другую переменную (не перезаписывайте предыдущую модель). Не забудьте про фиксирование seed!\n",
    "\n",
    "Затем воспользуйтесь методом *top_topics* модели, чтобы вычислить ее когерентность. Передайте в качестве аргумента соответствующий модели корпус. Метод вернет список кортежей (топ токенов, когерентность), отсортированных по убыванию последней. Вычислите среднюю по всем темам когерентность для каждой из двух моделей и передайте в функцию save_answers3. "
   ]
  },
  {
   "cell_type": "code",
   "execution_count": 20,
   "metadata": {},
   "outputs": [
    {
     "name": "stdout",
     "output_type": "stream",
     "text": [
      "CPU times: user 4min 44s, sys: 483 ms, total: 4min 44s\n",
      "Wall time: 4min 45s\n"
     ]
    }
   ],
   "source": [
    "np.random.seed(76543)\n",
    "%time ldamodel1 = models.ldamodel.LdaModel(corpus2, id2word=dictionary2, num_topics=40, passes=5)"
   ]
  },
  {
   "cell_type": "code",
   "execution_count": 21,
   "metadata": {},
   "outputs": [],
   "source": [
    "top_topics = ldamodel.top_topics(corpus)\n",
    "top_topics2 = ldamodel1.top_topics(corpus2)\n",
    "coherence = np.array(top_topics)[:,1].mean()\n",
    "coherence2 = np.array(top_topics2)[:,1].mean()"
   ]
  },
  {
   "cell_type": "code",
   "execution_count": 22,
   "metadata": {
    "collapsed": true
   },
   "outputs": [],
   "source": [
    "def save_answers3(coherence, coherence2):\n",
    "    with open(\"cooking_LDA_pa_task3.txt\", \"w\") as fout:\n",
    "        fout.write(\" \".join([\"%3f\"%el for el in [coherence, coherence2]]))"
   ]
  },
  {
   "cell_type": "code",
   "execution_count": 23,
   "metadata": {},
   "outputs": [],
   "source": [
    "save_answers3(coherence, coherence2)"
   ]
  },
  {
   "cell_type": "markdown",
   "metadata": {},
   "source": [
    "Считается, что когерентность хорошо соотносится с человеческими оценками интерпретируемости тем. Поэтому на больших текстовых коллекциях когерентность обычно повышается, если убрать фоновую лексику. Однако в нашем случае этого не произошло. "
   ]
  },
  {
   "cell_type": "markdown",
   "metadata": {},
   "source": [
    "### Изучение влияния гиперпараметра alpha"
   ]
  },
  {
   "cell_type": "markdown",
   "metadata": {},
   "source": [
    "В этом разделе мы будем работать со второй моделью, то есть той, которая построена по сокращенному корпусу. \n",
    "\n",
    "Пока что мы посмотрели только на матрицу темы-слова, теперь давайте посмотрим на матрицу темы-документы. Выведите темы для нулевого (или любого другого) документа из корпуса, воспользовавшись методом *get_document_topics* второй модели:"
   ]
  },
  {
   "cell_type": "code",
   "execution_count": 28,
   "metadata": {},
   "outputs": [
    {
     "data": {
      "text/plain": [
       "[(25, 0.128125), (30, 0.13285758), (31, 0.6233924)]"
      ]
     },
     "execution_count": 28,
     "metadata": {},
     "output_type": "execute_result"
    }
   ],
   "source": [
    "ldamodel1.get_document_topics(corpus2[0])"
   ]
  },
  {
   "cell_type": "markdown",
   "metadata": {},
   "source": [
    "Также выведите содержимое переменной *.alpha* второй модели:"
   ]
  },
  {
   "cell_type": "code",
   "execution_count": 29,
   "metadata": {},
   "outputs": [
    {
     "data": {
      "text/plain": [
       "array([ 0.025,  0.025,  0.025,  0.025,  0.025,  0.025,  0.025,  0.025,\n",
       "        0.025,  0.025,  0.025,  0.025,  0.025,  0.025,  0.025,  0.025,\n",
       "        0.025,  0.025,  0.025,  0.025,  0.025,  0.025,  0.025,  0.025,\n",
       "        0.025,  0.025,  0.025,  0.025,  0.025,  0.025,  0.025,  0.025,\n",
       "        0.025,  0.025,  0.025,  0.025,  0.025,  0.025,  0.025,  0.025], dtype=float32)"
      ]
     },
     "execution_count": 29,
     "metadata": {},
     "output_type": "execute_result"
    }
   ],
   "source": [
    "ldamodel1.alpha"
   ]
  },
  {
   "cell_type": "markdown",
   "metadata": {},
   "source": [
    "У вас должно получиться, что документ характеризуется небольшим числом тем. Попробуем поменять гиперпараметр alpha, задающий априорное распределение Дирихле для распределений тем в документах."
   ]
  },
  {
   "cell_type": "markdown",
   "metadata": {},
   "source": [
    "__Задание 4.__ Обучите третью модель: используйте сокращенный корпус (corpus2 и dictionary2) и установите параметр __alpha=1__, passes=5. Не забудьте про фиксацию seed! Выведите темы новой модели для нулевого документа; должно получиться, что распределение над множеством тем практически равномерное. Чтобы убедиться в том, что во второй модели документы описываются гораздо более разреженными распределениями, чем в третьей, посчитайте суммарное количество элементов, __превосходящих 0.01__, в матрицах темы-документы обеих моделей. Другими словами, запросите темы  модели для каждого документа с параметром *minimum_probability=0.01* и просуммируйте число элементов в получаемых массивах. Передайте две суммы (сначала для модели с alpha по умолчанию, затем для модели в alpha=1) в функцию save_answers4."
   ]
  },
  {
   "cell_type": "code",
   "execution_count": 24,
   "metadata": {
    "collapsed": true
   },
   "outputs": [],
   "source": [
    "np.random.seed(76543)\n",
    "ldamodel3 = models.ldamodel.LdaModel(corpus2, id2word=dictionary2, num_topics=40, passes=5, alpha=1)"
   ]
  },
  {
   "cell_type": "code",
   "execution_count": 25,
   "metadata": {},
   "outputs": [
    {
     "data": {
      "text/plain": [
       "[(0, 0.021344226),\n",
       " (1, 0.02129605),\n",
       " (2, 0.021276595),\n",
       " (3, 0.021334192),\n",
       " (4, 0.021279762),\n",
       " (5, 0.021370117),\n",
       " (6, 0.021296121),\n",
       " (7, 0.021276882),\n",
       " (8, 0.021442724),\n",
       " (9, 0.021315437),\n",
       " (10, 0.021621538),\n",
       " (11, 0.042228796),\n",
       " (12, 0.021276595),\n",
       " (13, 0.047128618),\n",
       " (14, 0.021535221),\n",
       " (15, 0.021547899),\n",
       " (16, 0.021439403),\n",
       " (17, 0.021807889),\n",
       " (18, 0.021276595),\n",
       " (19, 0.021404807),\n",
       " (20, 0.024694718),\n",
       " (21, 0.021286704),\n",
       " (22, 0.021276595),\n",
       " (23, 0.021282077),\n",
       " (24, 0.021790339),\n",
       " (25, 0.021566287),\n",
       " (26, 0.021500709),\n",
       " (27, 0.02133905),\n",
       " (28, 0.02148984),\n",
       " (29, 0.021318609),\n",
       " (30, 0.042581305),\n",
       " (31, 0.070806392),\n",
       " (32, 0.021406481),\n",
       " (33, 0.02130542),\n",
       " (34, 0.021288058),\n",
       " (35, 0.021336375),\n",
       " (36, 0.021286797),\n",
       " (37, 0.021292251),\n",
       " (38, 0.021278359),\n",
       " (39, 0.045374166)]"
      ]
     },
     "execution_count": 25,
     "metadata": {},
     "output_type": "execute_result"
    }
   ],
   "source": [
    "ldamodel3.get_document_topics(corpus2[0])\n"
   ]
  },
  {
   "cell_type": "code",
   "execution_count": 30,
   "metadata": {},
   "outputs": [
    {
     "name": "stdout",
     "output_type": "stream",
     "text": [
      "(198621, 1590960)\n"
     ]
    }
   ],
   "source": [
    "def count_topics(model, corpuses):\n",
    "    accum = 0\n",
    "    for doc in corpuses:\n",
    "        topics = model.get_document_topics(doc, minimum_probability=0.01)\n",
    "        accum += len(topics)\n",
    "    return accum\n",
    "\n",
    "count_model2 = count_topics(ldamodel1, corpus2)\n",
    "count_model3 = count_topics(ldamodel3, corpus2)\n",
    "print(count_model2, count_model3)"
   ]
  },
  {
   "cell_type": "code",
   "execution_count": 31,
   "metadata": {
    "collapsed": true
   },
   "outputs": [],
   "source": [
    "def save_answers4(count_model2, count_model3):\n",
    "    with open(\"cooking_LDA_pa_task4.txt\", \"w\") as fout:\n",
    "        fout.write(\" \".join([str(el) for el in [count_model2, count_model3]]))"
   ]
  },
  {
   "cell_type": "code",
   "execution_count": 32,
   "metadata": {
    "collapsed": true
   },
   "outputs": [],
   "source": [
    "save_answers4(count_model2, count_model3)"
   ]
  },
  {
   "cell_type": "markdown",
   "metadata": {},
   "source": [
    "Таким образом, гиперпараметр __alpha__ влияет на разреженность распределений тем в документах. Аналогично гиперпараметр __eta__ влияет на разреженность распределений слов в темах."
   ]
  },
  {
   "cell_type": "markdown",
   "metadata": {},
   "source": [
    "### LDA как способ понижения размерности\n",
    "Иногда, распределения над темами, найденные с помощью LDA, добавляют в матрицу объекты-признаки как дополнительные, семантические, признаки, и это может улучшить качество решения задачи. Для простоты давайте просто обучим классификатор рецептов на кухни на признаках, полученных из LDA, и измерим точность (accuracy).\n",
    "\n",
    "__Задание 5.__ Используйте модель, построенную по сокращенной выборке с alpha по умолчанию (вторую модель). Составьте матрицу $\\Theta = p(t|d)$ вероятностей тем в документах; вы можете использовать тот же метод get_document_topics, а также вектор правильных ответов y (в том же порядке, в котором рецепты идут в переменной recipes). Создайте объект RandomForestClassifier со 100 деревьями, с помощью функции cross_val_score вычислите среднюю accuracy по трем фолдам (перемешивать данные не нужно) и передайте в функцию save_answers5."
   ]
  },
  {
   "cell_type": "code",
   "execution_count": 37,
   "metadata": {},
   "outputs": [],
   "source": [
    "from sklearn.ensemble import RandomForestClassifier\n",
    "from sklearn.cross_validation import cross_val_score\n",
    "import pandas as pd"
   ]
  },
  {
   "cell_type": "code",
   "execution_count": 38,
   "metadata": {
    "collapsed": true
   },
   "outputs": [],
   "source": [
    "def build_matrix(model, corpus):\n",
    "    matrix = {}\n",
    "    for i, doc in enumerate(corpus):\n",
    "        matrix[i] = {}\n",
    "        topics = model.get_document_topics(doc)\n",
    "        for topic in topics:\n",
    "            matrix[i][topic[0]] = topic[1]\n",
    "   \n",
    "    return matrix\n",
    "\n",
    "matrix = build_matrix(ldamodel1, corpus2)"
   ]
  },
  {
   "cell_type": "code",
   "execution_count": 39,
   "metadata": {},
   "outputs": [
    {
     "data": {
      "text/plain": [
       "((39774, 40), (39774,))"
      ]
     },
     "execution_count": 39,
     "metadata": {},
     "output_type": "execute_result"
    }
   ],
   "source": [
    "X = pd.DataFrame.from_dict(matrix).fillna(0).T\n",
    "y = np.array([recipe['cuisine'] for recipe in recipes])\n",
    "X.shape, y.shape"
   ]
  },
  {
   "cell_type": "code",
   "execution_count": 40,
   "metadata": {
    "collapsed": true
   },
   "outputs": [],
   "source": [
    "clf = RandomForestClassifier(n_estimators=100)\n",
    "scores = cross_val_score(clf, X, y, cv=3, scoring='accuracy')"
   ]
  },
  {
   "cell_type": "code",
   "execution_count": 41,
   "metadata": {
    "collapsed": true
   },
   "outputs": [],
   "source": [
    "def save_answers5(accuracy):\n",
    "     with open(\"cooking_LDA_pa_task5.txt\", \"w\") as fout:\n",
    "        fout.write(str(accuracy))"
   ]
  },
  {
   "cell_type": "code",
   "execution_count": 42,
   "metadata": {
    "collapsed": true
   },
   "outputs": [],
   "source": [
    "save_answers5(np.mean(scores))"
   ]
  },
  {
   "cell_type": "markdown",
   "metadata": {},
   "source": [
    "Для такого большого количества классов это неплохая точность. Вы можете попроовать обучать RandomForest на исходной матрице частот слов, имеющей значительно большую размерность, и увидеть, что accuracy увеличивается на 10–15%. Таким образом, LDA собрал не всю, но достаточно большую часть информации из выборки, в матрице низкого ранга."
   ]
  },
  {
   "cell_type": "markdown",
   "metadata": {},
   "source": [
    "### LDA — вероятностная модель\n",
    "Матричное разложение, использующееся в LDA, интерпретируется как следующий процесс генерации документов.\n",
    "\n",
    "Для документа $d$ длины $n_d$:\n",
    "1. Из априорного распределения Дирихле с параметром alpha сгенерировать распределение над множеством тем: $\\theta_d \\sim Dirichlet(\\alpha)$\n",
    "1. Для каждого слова $w = 1, \\dots, n_d$:\n",
    "    1. Сгенерировать тему из дискретного распределения $t \\sim \\theta_{d}$\n",
    "    1. Сгенерировать слово из дискретного распределения $w \\sim \\phi_{t}$.\n",
    "    \n",
    "Подробнее об этом в [Википедии](https://en.wikipedia.org/wiki/Latent_Dirichlet_allocation).\n",
    "\n",
    "В контексте нашей задачи получается, что, используя данный генеративный процесс, можно создавать новые рецепты. Вы можете передать в функцию модель и число ингредиентов и сгенерировать рецепт :)"
   ]
  },
  {
   "cell_type": "code",
   "execution_count": 43,
   "metadata": {
    "collapsed": true
   },
   "outputs": [],
   "source": [
    "def generate_recipe(model, num_ingredients):\n",
    "    theta = np.random.dirichlet(model.alpha)\n",
    "    for i in range(num_ingredients):\n",
    "        t = np.random.choice(np.arange(model.num_topics), p=theta)\n",
    "        topic = model.show_topic(t, topn=model.num_terms)\n",
    "        topic_distr = [x[1] for x in topic]\n",
    "        terms = [x[0] for x in topic]\n",
    "        w = np.random.choice(terms, p=topic_distr)\n",
    "        print w"
   ]
  },
  {
   "cell_type": "markdown",
   "metadata": {},
   "source": [
    "### Интерпретация построенной модели\n",
    "Вы можете рассмотреть топы ингредиентов каждой темы. Большиснтво тем сами по себе похожи на рецепты; в некоторых собираются продукты одного вида, например, свежие фрукты или разные виды сыра.\n",
    "\n",
    "Попробуем эмпирически соотнести наши темы с национальными кухнями (cuisine). Построим матрицу $A$ размера темы $x$ кухни, ее элементы $a_{tc}$ — суммы $p(t|d)$ по всем документам $d$, которые отнесены к кухне $c$. Нормируем матрицу на частоты рецептов по разным кухням, чтобы избежать дисбаланса между кухнями. Следующая функция получает на вход объект модели, объект корпуса и исходные данные и возвращает нормированную матрицу $A$. Ее удобно визуализировать с помощью seaborn."
   ]
  },
  {
   "cell_type": "code",
   "execution_count": 44,
   "metadata": {
    "collapsed": true
   },
   "outputs": [],
   "source": [
    "import pandas\n",
    "import seaborn\n",
    "from matplotlib import pyplot as plt\n",
    "%matplotlib inline"
   ]
  },
  {
   "cell_type": "code",
   "execution_count": 45,
   "metadata": {
    "collapsed": true
   },
   "outputs": [],
   "source": [
    "def compute_topic_cuisine_matrix(model, corpus, recipes):\n",
    "    # составляем вектор целевых признаков\n",
    "    targets = list(set([recipe[\"cuisine\"] for recipe in recipes]))\n",
    "    # составляем матрицу\n",
    "    tc_matrix = pandas.DataFrame(data=np.zeros((model.num_topics, len(targets))), columns=targets)\n",
    "    for recipe, bow in zip(recipes, corpus):\n",
    "        recipe_topic = model.get_document_topics(bow)\n",
    "        for t, prob in recipe_topic:\n",
    "            tc_matrix[recipe[\"cuisine\"]][t] += prob\n",
    "    # нормируем матрицу\n",
    "    target_sums = pandas.DataFrame(data=np.zeros((1, len(targets))), columns=targets)\n",
    "    for recipe in recipes:\n",
    "        target_sums[recipe[\"cuisine\"]] += 1\n",
    "    return pandas.DataFrame(tc_matrix.values/target_sums.values, columns=tc_matrix.columns)"
   ]
  },
  {
   "cell_type": "code",
   "execution_count": 46,
   "metadata": {
    "collapsed": true
   },
   "outputs": [],
   "source": [
    "def plot_matrix(tc_matrix):\n",
    "    plt.figure(figsize=(10, 10))\n",
    "    seaborn.heatmap(tc_matrix, square=True)"
   ]
  },
  {
   "cell_type": "code",
   "execution_count": 48,
   "metadata": {},
   "outputs": [
    {
     "data": {
      "image/png": "[encoded data removed]",
      "text/plain": [
       "<matplotlib.figure.Figure at 0x1a23cb8f50>"
      ]
     },
     "metadata": {},
     "output_type": "display_data"
    }
   ],
   "source": [
    "# Визуализируйте матрицу\n",
    "plot_matrix(compute_topic_cuisine_matrix(ldamodel, corpus, recipes))\n"
   ]
  },
  {
   "cell_type": "markdown",
   "metadata": {},
   "source": [
    "Чем темнее квадрат в матрице, тем больше связь этой темы с данной кухней. Мы видим, что у нас есть темы, которые связаны с несколькими кухнями. Такие темы показывают набор ингредиентов, которые популярны в кухнях нескольких народов, то есть указывают на схожесть кухонь этих народов. Некоторые темы распределены по всем кухням равномерно, они показывают наборы продуктов, которые часто используются в кулинарии всех стран. "
   ]
  },
  {
   "cell_type": "markdown",
   "metadata": {},
   "source": [
    "Жаль, что в датасете нет названий рецептов, иначе темы было бы проще интерпретировать..."
   ]
  },
  {
   "cell_type": "markdown",
   "metadata": {},
   "source": [
    "### Заключение\n",
    "В этом задании вы построили несколько моделей LDA, посмотрели, на что влияют гиперпараметры модели и как можно использовать построенную модель. "
   ]
  }
 ],
 "metadata": {
  "kernelspec": {
   "display_name": "Python 2",
   "language": "python",
   "name": "python2"
  },
  "language_info": {
   "codemirror_mode": {
    "name": "ipython",
    "version": 2
   },
   "file_extension": ".py",
   "mimetype": "text/x-python",
   "name": "python",
   "nbconvert_exporter": "python",
   "pygments_lexer": "ipython2",
   "version": "2.7.14"
  }
 },
 "nbformat": 4,
 "nbformat_minor": 1
}
